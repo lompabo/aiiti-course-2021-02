{
 "cells": [
  {
   "cell_type": "code",
   "execution_count": 2,
   "metadata": {
    "slideshow": {
     "slide_type": "skip"
    }
   },
   "outputs": [
    {
     "name": "stdout",
     "output_type": "stream",
     "text": [
      "The autoreload extension is already loaded. To reload it, use:\n",
      "  %reload_ext autoreload\n",
      "KDE bandwidth: 0.035\n",
      "Fitting a KDE estimator\n"
     ]
    }
   ],
   "source": [
    "# ============================================================\n",
    "# Notebook setup\n",
    "# ============================================================\n",
    "\n",
    "%load_ext autoreload\n",
    "%autoreload 2\n",
    "\n",
    "interactive_figures = False\n",
    "if interactive_figures:\n",
    "    %matplotlib widget\n",
    "    figsize = (9,3)\n",
    "else:\n",
    "    figsize = (13,4)\n",
    "\n",
    "from sklearn.neighbors import KernelDensity\n",
    "from sklearn.model_selection import GridSearchCV\n",
    "from util import nab\n",
    "import numpy as np\n",
    "from matplotlib import pyplot as plt\n",
    "import pandas as pd\n",
    "from sklearn.metrics import r2_score\n",
    "from sklearn.linear_model import LinearRegression\n",
    "\n",
    "# Load data\n",
    "data_folder = '/app/data/nab'\n",
    "file_name = 'realKnownCause/nyc_taxi.csv'\n",
    "data, labels, windows = nab.load_series(file_name, data_folder)\n",
    "\n",
    "# Train and validation end\n",
    "train_end = pd.to_datetime('2014-10-24 00:00:00')\n",
    "val_end = pd.to_datetime('2014-12-10 00:00:00')\n",
    "\n",
    "# Cost model parameters\n",
    "c_alrm = 1 # Cost of investigating a false alarm\n",
    "c_missed = 10 # Cost of missing an anomaly\n",
    "c_late = 5 # Cost for late detection\n",
    "\n",
    "# Build a cost model\n",
    "cmodel = nab.ADSimpleCostModel(c_alrm, c_missed, c_late)\n",
    "\n",
    "# Compute the maximum over the training set\n",
    "trmax = data[data.index < train_end]['value'].max()\n",
    "# Normalize\n",
    "data['value'] = data['value'] / trmax\n",
    "# Separate the training data\n",
    "data_tr = data[data.index < train_end]\n",
    "\n",
    "# Apply a sliding window\n",
    "wlen = 48\n",
    "wdata = nab.sliding_window_1D(data, wlen=wlen)\n",
    "\n",
    "\n",
    "# ------------------------------------------------------------------\n",
    "# For a later comparison: train a KDE model\n",
    "# ------------------------------------------------------------------\n",
    "\n",
    "# Compute the bandhwidth\n",
    "q1 = data_tr['value'].quantile(0.25)\n",
    "q3 = data_tr['value'].quantile(0.75)\n",
    "sigma = data_tr['value'].std()\n",
    "m =  len(data_tr)\n",
    "h = 0.9 * min(sigma, (q3-q1) / 1.34) * m**(-0.2)\n",
    "print(f'KDE bandwidth: {h:.3f}')\n",
    "\n",
    "# Build and fit a density estimator\n",
    "print('Fitting a KDE estimator')\n",
    "kde = KernelDensity(kernel='gaussian', bandwidth=h)\n",
    "kde.fit(data_tr);"
   ]
  },
  {
   "cell_type": "markdown",
   "metadata": {
    "slideshow": {
     "slide_type": "slide"
    }
   },
   "source": [
    "# Handling Seasonality"
   ]
  },
  {
   "cell_type": "markdown",
   "metadata": {
    "slideshow": {
     "slide_type": "subslide"
    }
   },
   "source": [
    "## About Our Autoregression Attempt\n",
    "\n",
    "**About our autoregression attempt:**\n",
    "\n",
    "* It worked reasonably well\n",
    "* ...But the error signal was very noisy\n",
    "* And some anomalies went completely undetected\n",
    "\n",
    "**I bet you know a possible cause**"
   ]
  },
  {
   "cell_type": "markdown",
   "metadata": {
    "slideshow": {
     "slide_type": "fragment"
    }
   },
   "source": [
    "...And _some_ problems are in fact caused by the presence of a _period_\n",
    "\n",
    "* Periodic-like behavior in time series is referred to as _seasonality_\n",
    "* In principle, linear regression can deal with periodic data\n",
    "* ...As long as the period is _shorter_ than the observed window\n",
    "* However, other periods are still a problem\n",
    "\n",
    "**We will now explore the idea of _getting rid of_ the periodicity**"
   ]
  },
  {
   "cell_type": "markdown",
   "metadata": {
    "slideshow": {
     "slide_type": "subslide"
    }
   },
   "source": [
    "## Identification of the Seasonality\n",
    "\n",
    "**The first step to removing seasonality is its identification**\n",
    "\n",
    "* One way to do it is using an autocorrelation plot (for the training data)"
   ]
  },
  {
   "cell_type": "code",
   "execution_count": 4,
   "metadata": {},
   "outputs": [
    {
     "data": {
      "image/png": "[encoded data removed]",
      "text/plain": [
       "<Figure size 936x288 with 1 Axes>"
      ]
     },
     "metadata": {
      "needs_background": "light"
     },
     "output_type": "display_data"
    }
   ],
   "source": [
    "nab.plot_autocorrelation(data_tr, max_lag=96, figsize=figsize)"
   ]
  },
  {
   "cell_type": "markdown",
   "metadata": {},
   "source": [
    "By looking up to > 48 lags, the daily period is evident"
   ]
  },
  {
   "cell_type": "markdown",
   "metadata": {
    "slideshow": {
     "slide_type": "subslide"
    }
   },
   "source": [
    "## Identification of the Seasonality\n",
    "\n",
    "**However, using an autocorrelation plot has its _problems_:**\n",
    "\n",
    "Peaks repeat:\n",
    "\n",
    "* The peak at 48 unit lag will repeat at 96 and so on\n",
    "* How can we say  whether it's a single period or multiple periods?\n",
    "\n",
    "Multiple periods may disturb each other:\n",
    "\n",
    "* A shorter period may make a longer one less evident\n",
    "* Non co-prime periods hide each other\n",
    "\n",
    "Trends cause even more noise:\n",
    "\n",
    "* If the data has a trend (e.g. generally increasing or decreasing)...\n",
    "* ...All correlations due to seasonal behavior will be weaker"
   ]
  },
  {
   "cell_type": "markdown",
   "metadata": {
    "slideshow": {
     "slide_type": "subslide"
    }
   },
   "source": [
    "## Identification of the Seasonality\n",
    "\n",
    "**A better method consist in using frequence analysis**\n",
    "\n",
    "In particular, we can compute the _Fast Fourier Transform_ of our signal\n",
    "\n",
    "* Without going too deep, a FFT is decomposition of a _discrete_ signal...\n",
    "* ...Into a _discrete_ set of sine/cosine components\n",
    "\n",
    "**Given a signal $x$ with $N$ samples, its FFT has also $N$ components**\n",
    "\n",
    "The _amplitudes $y$_ of the components are defined so that:\n",
    "\n",
    "$$\n",
    "x_n = \\frac{1}{N} \\sum_{k=0}^{N-1} y_k e^{2\\pi i \\frac{kn}{N}}\n",
    "$$\n",
    "\n",
    "I.e. the whole signal can be reconstructed from its decomposition\n",
    "\n",
    "* $x_n$ is the $n$-th element in the discrete signal\n",
    "* Each amplitude $y_k$ is assigned to a _frequency_"
   ]
  },
  {
   "cell_type": "markdown",
   "metadata": {
    "slideshow": {
     "slide_type": "subslide"
    }
   },
   "source": [
    "## FFT in numpy\n",
    "\n",
    "**In numpy, we can compute an FFT via:**"
   ]
  },
  {
   "cell_type": "code",
   "execution_count": 5,
   "metadata": {},
   "outputs": [],
   "source": [
    "from numpy.fft import fft\n",
    "y = fft(data_tr['value'])"
   ]
  },
  {
   "cell_type": "markdown",
   "metadata": {
    "slideshow": {
     "slide_type": "-"
    }
   },
   "source": [
    "We can get the corresponding frequencies with:"
   ]
  },
  {
   "cell_type": "code",
   "execution_count": 6,
   "metadata": {},
   "outputs": [
    {
     "name": "stdout",
     "output_type": "stream",
     "text": [
      "[ 0.          0.00018116  0.00036232 ... -0.00054348 -0.00036232\n",
      " -0.00018116]\n"
     ]
    }
   ],
   "source": [
    "from numpy.fft import fftfreq\n",
    "f = fftfreq(len(data_tr))\n",
    "print(f)"
   ]
  },
  {
   "cell_type": "markdown",
   "metadata": {},
   "source": [
    "* The frequencies are in cycles/time unit (30 minutes, in our case)\n",
    "* A different sampling frequency may be specified, if you wish"
   ]
  },
  {
   "cell_type": "markdown",
   "metadata": {
    "slideshow": {
     "slide_type": "subslide"
    }
   },
   "source": [
    "## FFT in numpy\n",
    "\n",
    "**For a _real-valued_ signal, the FFT is always _symmetric_**\n",
    "\n",
    "* So, we care only about the positive frequencies (by convention, _the first half_)\n",
    "* The 0 frequency (constant component) is also not relevant for us"
   ]
  },
  {
   "cell_type": "code",
   "execution_count": 8,
   "metadata": {},
   "outputs": [
    {
     "data": {
      "image/png": "[encoded data removed]",
      "text/plain": [
       "<Figure size 936x288 with 1 Axes>"
      ]
     },
     "metadata": {
      "needs_background": "light"
     },
     "output_type": "display_data"
    }
   ],
   "source": [
    "n = len(data_tr)\n",
    "plt.figure(figsize=figsize)\n",
    "plt.plot(f[1:n//2], np.abs(y[1:n//2]))\n",
    "plt.xticks()\n",
    "plt.show()"
   ]
  },
  {
   "cell_type": "markdown",
   "metadata": {
    "slideshow": {
     "slide_type": "subslide"
    }
   },
   "source": [
    "## Getting the Peak Frequencies\n",
    "\n",
    "**Let us select all frequecies with amplitude greater than 100**\n",
    "\n",
    "First, we focus on the positive frequencies"
   ]
  },
  {
   "cell_type": "code",
   "execution_count": 9,
   "metadata": {},
   "outputs": [],
   "source": [
    "yp = y[1:n//2]\n",
    "fp = f[1:n//2]"
   ]
  },
  {
   "cell_type": "markdown",
   "metadata": {},
   "source": [
    "Then, we select the frequencies with (absolute) amplitude above 100:"
   ]
  },
  {
   "cell_type": "code",
   "execution_count": 10,
   "metadata": {},
   "outputs": [],
   "source": [
    "fp_peak = fp[np.abs(yp) >= 100]"
   ]
  },
  {
   "cell_type": "markdown",
   "metadata": {},
   "source": [
    "...And we invert them to obtain the periods (in time steps):"
   ]
  },
  {
   "cell_type": "code",
   "execution_count": 11,
   "metadata": {},
   "outputs": [
    {
     "data": {
      "text/plain": [
       "array([345.        ,  55.75757576,  48.        ,  25.91549296,\n",
       "        25.79439252,  24.        ])"
      ]
     },
     "execution_count": 11,
     "metadata": {},
     "output_type": "execute_result"
    }
   ],
   "source": [
    "1/fp_peak"
   ]
  },
  {
   "cell_type": "markdown",
   "metadata": {
    "slideshow": {
     "slide_type": "subslide"
    }
   },
   "source": [
    "## Getting the Peak Frequencies\n",
    "\n",
    "**Let's discard the duplicates and consider them one by one**"
   ]
  },
  {
   "cell_type": "code",
   "execution_count": 12,
   "metadata": {},
   "outputs": [
    {
     "data": {
      "text/plain": [
       "array([ 24.,  26.,  48.,  56., 345.])"
      ]
     },
     "execution_count": 12,
     "metadata": {},
     "output_type": "execute_result"
    }
   ],
   "source": [
    "np.unique(np.round(1/fp_peak))"
   ]
  },
  {
   "cell_type": "markdown",
   "metadata": {},
   "source": [
    "There are a few clusters:\n",
    "\n",
    "* 345: this is a _weekly_ period (345 / 48 = 7.18). Rounded to 48*7 = 336\n",
    "* 56, 48: this is the main, _daily_ period. Rounded to 48\n",
    "* 24: this is a _half-day_ period. Rounded to 24"
   ]
  },
  {
   "cell_type": "markdown",
   "metadata": {
    "slideshow": {
     "slide_type": "subslide"
    }
   },
   "source": [
    "## Getting the Peak Frequencies\n",
    "\n",
    "**The periods are not co-prime**\n",
    "\n",
    "* ..I.e. they are _multiples_ one of each other\n",
    "* In this situation, the _longest period_ tends to be the most important one\n",
    "\n",
    "**In fact, the longest period _conveys information_ about its sub-multiples**\n",
    "\n",
    "* Taxis requested at 7am last week...\n",
    "* ...Are likely similar to those requested at 7am yesterday\n",
    "* The same goes for all sub-multiples\n",
    "\n",
    "**In our situation:**\n",
    "\n",
    "* All periods are (roughly) submultiples of one week\n",
    "* ...So we can _focus on the weekly period_"
   ]
  },
  {
   "cell_type": "markdown",
   "metadata": {
    "slideshow": {
     "slide_type": "subslide"
    }
   },
   "source": [
    "## Differencing\n",
    "\n",
    "**A simple approach to handle seasonality consist in _differencing_**\n",
    "\n",
    "Our predictor becomes the _sum of two predictors_ (i.e. a type of ensemble):\n",
    "\n",
    "* The linear regression model, $f(x, \\theta)$\n",
    "* A predictor $g(x, d)$ that outputs the target exactly $d$ steps before:\n",
    "\n",
    "$$\n",
    "g(x_i, d) = \\hat{y}_{i-d}\n",
    "$$\n",
    "\n",
    "Where:\n",
    "\n",
    "* $x_i$ is the value of the series for the $i$-th time step\n",
    "* $d$ is the period, $\\hat{y}_{i-d}$ is the target value $d$ time steps earlier\n",
    "\n",
    "**The idea is to _let the a dedicated predictor handle the period_**\n",
    "\n"
   ]
  },
  {
   "cell_type": "markdown",
   "metadata": {
    "slideshow": {
     "slide_type": "subslide"
    }
   },
   "source": [
    "## Differencing\n",
    "\n",
    "**With the differencing approach we wish to have**\n",
    "\n",
    "$$\n",
    "g(x_i, d) + f(x_i, \\theta) \\simeq \\hat{y}_i\n",
    "$$\n",
    "\n",
    "* Where $\\hat{y}_i$ is the target for the $i$-th time step (e.g. the value of the next step)\n",
    "\n",
    "**About learning the (ensemble) predictor:**\n",
    "\n",
    "* Training $g(x, d)$ first requires to identify the period\n",
    "* Once we know $d$, the we can rewrite the equation as:\n",
    "\n",
    "$$\n",
    "f(x_i, d) \\simeq \\hat{y}_i - g(x_i, d)\n",
    "$$\n",
    "\n",
    "* The target for the linear regressor is obtained by taking the original target\n",
    "* ...And _subtracting the target $d$ step earlier_\n",
    "\n",
    "\n"
   ]
  },
  {
   "cell_type": "markdown",
   "metadata": {
    "slideshow": {
     "slide_type": "subslide"
    }
   },
   "source": [
    "## Differencing\n",
    "\n",
    "**The use of a difference operator is the reason for the name \"differencing\"**\n",
    "\n",
    "We obtain the linear regressor targets by subtraction:"
   ]
  },
  {
   "cell_type": "code",
   "execution_count": 13,
   "metadata": {
    "slideshow": {
     "slide_type": "-"
    }
   },
   "outputs": [],
   "source": [
    "periods = [1, 336]\n",
    "deltas = []\n",
    "data_d = data.copy()\n",
    "for d in periods:\n",
    "    delta = data_d.iloc[:-d]\n",
    "    data_d = data_d.iloc[d:] - delta.values\n",
    "    deltas.append(delta)"
   ]
  },
  {
   "cell_type": "markdown",
   "metadata": {},
   "source": [
    "* The `values` field returns the data as a numpy array (_without an index_)\n",
    "* We use it to keep the index of `data_d.iloc[d:]`\n",
    "* We store all subtracted vectors so we can _reverse the transformation_\n",
    "    * I.e. so that we can later compute the value of the $g(x, d)$ predictor"
   ]
  },
  {
   "cell_type": "markdown",
   "metadata": {
    "slideshow": {
     "slide_type": "subslide"
    }
   },
   "source": [
    "## Differencing\n",
    "\n",
    "**The use of a difference operator is the reason for the name \"differencing\"**\n",
    "\n",
    "We obtain the linear regressor targets by subtraction:"
   ]
  },
  {
   "cell_type": "code",
   "execution_count": 14,
   "metadata": {
    "slideshow": {
     "slide_type": "-"
    }
   },
   "outputs": [],
   "source": [
    "periods = [1, 336]\n",
    "deltas = []\n",
    "data_d = data.copy()\n",
    "for d in periods:\n",
    "    delta = data_d.iloc[:-d]\n",
    "    data_d = data_d.iloc[d:] - delta.values\n",
    "    deltas.append(delta)"
   ]
  },
  {
   "cell_type": "markdown",
   "metadata": {},
   "source": [
    "**We have also added a \"1\" period**\n",
    "\n",
    "* This is not captured by frequency analysis via FFT\n",
    "* ...But most signals have some \"inertia\"\n",
    "* ...Hence, just _repeating the last value_ has a strong predicting value\n",
    "\n",
    "The act of just predicting the last value has even name: _persistence_ predictor"
   ]
  },
  {
   "cell_type": "markdown",
   "metadata": {
    "slideshow": {
     "slide_type": "subslide"
    }
   },
   "source": [
    "## Differencing\n",
    "\n",
    "**We can wrap the algorithm in a function**\n",
    "\n",
    "This is available in the `nab` module\n",
    "\n",
    "```python\n",
    "def apply_differencing(data, lags):\n",
    "    deltas = {}\n",
    "    data_d = data.copy()\n",
    "    for d in lags:\n",
    "        delta = data_d.iloc[:-d]\n",
    "        data_d = data_d.iloc[d:] - delta.values\n",
    "        deltas[d] = delta\n",
    "    return data_d, deltas\n",
    "```"
   ]
  },
  {
   "cell_type": "code",
   "execution_count": 15,
   "metadata": {
    "slideshow": {
     "slide_type": "-"
    }
   },
   "outputs": [],
   "source": [
    "data_d, deltas = nab.apply_differencing(data, periods)"
   ]
  },
  {
   "cell_type": "markdown",
   "metadata": {
    "slideshow": {
     "slide_type": "subslide"
    }
   },
   "source": [
    "## Differencing\n",
    "\n",
    "**We can now plot the resulting series**"
   ]
  },
  {
   "cell_type": "code",
   "execution_count": 17,
   "metadata": {},
   "outputs": [
    {
     "data": {
      "image/png": "[encoded data removed]",
      "text/plain": [
       "<Figure size 936x288 with 1 Axes>"
      ]
     },
     "metadata": {
      "needs_background": "light"
     },
     "output_type": "display_data"
    }
   ],
   "source": [
    "nab.plot_series(data_d, figsize=figsize)"
   ]
  },
  {
   "cell_type": "markdown",
   "metadata": {},
   "source": [
    "* Periods are _no longer visible_!"
   ]
  },
  {
   "cell_type": "markdown",
   "metadata": {
    "slideshow": {
     "slide_type": "subslide"
    }
   },
   "source": [
    "## Preparing the Data\n",
    "\n",
    "**Now we need to choose a sliding window length**\n",
    "\n",
    "For this task, the best tool is still an autocorrelation plot"
   ]
  },
  {
   "cell_type": "code",
   "execution_count": 19,
   "metadata": {},
   "outputs": [
    {
     "data": {
      "image/png": "[encoded data removed]",
      "text/plain": [
       "<Figure size 936x288 with 1 Axes>"
      ]
     },
     "metadata": {
      "needs_background": "light"
     },
     "output_type": "display_data"
    }
   ],
   "source": [
    "nab.plot_autocorrelation(data_d, figsize=figsize)"
   ]
  },
  {
   "cell_type": "markdown",
   "metadata": {},
   "source": [
    "* Correlations are now very weak: we can use a small window"
   ]
  },
  {
   "cell_type": "markdown",
   "metadata": {
    "slideshow": {
     "slide_type": "subslide"
    }
   },
   "source": [
    "## Preparing the Data\n",
    "\n",
    "**Then, we can actually apply the sliding window**"
   ]
  },
  {
   "cell_type": "code",
   "execution_count": 20,
   "metadata": {},
   "outputs": [
    {
     "data": {
      "text/html": [
       "<div>\n",
       "<style scoped>\n",
       "    .dataframe tbody tr th:only-of-type {\n",
       "        vertical-align: middle;\n",
       "    }\n",
       "\n",
       "    .dataframe tbody tr th {\n",
       "        vertical-align: top;\n",
       "    }\n",
       "\n",
       "    .dataframe thead th {\n",
       "        text-align: right;\n",
       "    }\n",
       "</style>\n",
       "<table border=\"1\" class=\"dataframe\">\n",
       "  <thead>\n",
       "    <tr style=\"text-align: right;\">\n",
       "      <th></th>\n",
       "      <th>0</th>\n",
       "      <th>1</th>\n",
       "      <th>2</th>\n",
       "    </tr>\n",
       "    <tr>\n",
       "      <th>timestamp</th>\n",
       "      <th></th>\n",
       "      <th></th>\n",
       "      <th></th>\n",
       "    </tr>\n",
       "  </thead>\n",
       "  <tbody>\n",
       "    <tr>\n",
       "      <th>2014-07-08 01:30:00</th>\n",
       "      <td>0.050538</td>\n",
       "      <td>0.038159</td>\n",
       "      <td>-0.024660</td>\n",
       "    </tr>\n",
       "    <tr>\n",
       "      <th>2014-07-08 02:00:00</th>\n",
       "      <td>0.038159</td>\n",
       "      <td>-0.024660</td>\n",
       "      <td>-0.025088</td>\n",
       "    </tr>\n",
       "    <tr>\n",
       "      <th>2014-07-08 02:30:00</th>\n",
       "      <td>-0.024660</td>\n",
       "      <td>-0.025088</td>\n",
       "      <td>-0.001284</td>\n",
       "    </tr>\n",
       "    <tr>\n",
       "      <th>2014-07-08 03:00:00</th>\n",
       "      <td>-0.025088</td>\n",
       "      <td>-0.001284</td>\n",
       "      <td>0.005400</td>\n",
       "    </tr>\n",
       "    <tr>\n",
       "      <th>2014-07-08 03:30:00</th>\n",
       "      <td>-0.001284</td>\n",
       "      <td>0.005400</td>\n",
       "      <td>0.001877</td>\n",
       "    </tr>\n",
       "  </tbody>\n",
       "</table>\n",
       "</div>"
      ],
      "text/plain": [
       "                            0         1         2\n",
       "timestamp                                        \n",
       "2014-07-08 01:30:00  0.050538  0.038159 -0.024660\n",
       "2014-07-08 02:00:00  0.038159 -0.024660 -0.025088\n",
       "2014-07-08 02:30:00 -0.024660 -0.025088 -0.001284\n",
       "2014-07-08 03:00:00 -0.025088 -0.001284  0.005400\n",
       "2014-07-08 03:30:00 -0.001284  0.005400  0.001877"
      ]
     },
     "execution_count": 20,
     "metadata": {},
     "output_type": "execute_result"
    }
   ],
   "source": [
    "wlen_d = 3\n",
    "wdata_d = nab.sliding_window_1D(data_d, wlen=wlen_d)\n",
    "wdata_d.head()"
   ]
  },
  {
   "cell_type": "markdown",
   "metadata": {},
   "source": [
    "...And then separate input and output"
   ]
  },
  {
   "cell_type": "code",
   "execution_count": 21,
   "metadata": {},
   "outputs": [],
   "source": [
    "wdata_d_out = data_d.iloc[wlen_d:]['value']\n",
    "wdata_d_in = wdata_d.iloc[:-1]"
   ]
  },
  {
   "cell_type": "markdown",
   "metadata": {
    "slideshow": {
     "slide_type": "subslide"
    }
   },
   "source": [
    "## Fitting the Autoregressor\n",
    "\n",
    "**Now, we can train again our regressor**"
   ]
  },
  {
   "cell_type": "code",
   "execution_count": 22,
   "metadata": {},
   "outputs": [],
   "source": [
    "wdata_d_in_tr = wdata_d_in[wdata_d_in.index < train_end]\n",
    "wdata_d_out_tr = wdata_d_out[wdata_d_out.index <= train_end]\n",
    "\n",
    "reg_d = LinearRegression()\n",
    "reg_d.fit(wdata_d_in_tr, wdata_d_out_tr);"
   ]
  },
  {
   "cell_type": "markdown",
   "metadata": {},
   "source": [
    "Then we obtain the predictions:"
   ]
  },
  {
   "cell_type": "code",
   "execution_count": 23,
   "metadata": {},
   "outputs": [],
   "source": [
    "pred_d = reg_d.predict(wdata_d_in)\n",
    "pred_d = pd.Series(index=wdata_d_out.index, data=pred_d)"
   ]
  },
  {
   "cell_type": "markdown",
   "metadata": {},
   "source": [
    "* These are predictions for the signal _after differencing_\n",
    "* They do not reflect the scale of the _original_ signal\n",
    "* ...And therefore they are not yet enough"
   ]
  },
  {
   "cell_type": "markdown",
   "metadata": {
    "slideshow": {
     "slide_type": "subslide"
    }
   },
   "source": [
    "## Fitting the Autoregressor\n",
    "\n",
    "**Differencing leads to a more complex predictor**\n",
    "\n",
    "* We have the differencing operation + the Linear Regression model\n",
    "* Once again, we have an _ensemble_\n",
    "\n",
    "**Getting the actual predictions requires to _reverse_ the differencing operation**"
   ]
  },
  {
   "cell_type": "code",
   "execution_count": 24,
   "metadata": {},
   "outputs": [],
   "source": [
    "dsum = 0\n",
    "pred = pred_d.copy()\n",
    "for i, d in reversed(list(enumerate(periods))):\n",
    "    delta = deltas[i].values.reshape((-1,))\n",
    "    pred = pred + delta[wlen_d+dsum:]\n",
    "    dsum +=  d\n",
    "targets = data.iloc[wlen_d+dsum:]['value']"
   ]
  },
  {
   "cell_type": "markdown",
   "metadata": {},
   "source": [
    "* We do it by summing the _right-most part_ of the residual vectors we stored\n",
    "  - For this we visit the periods in reverse order\n",
    "  - ...And keep a sum (`dsum`) of the processed periods\n",
    "* We also need to take into account the window for the Linear Regression model"
   ]
  },
  {
   "cell_type": "markdown",
   "metadata": {
    "slideshow": {
     "slide_type": "subslide"
    }
   },
   "source": [
    "## Fitting the Autoregressor\n",
    "\n",
    "**We can wrap even this operation in a function**\n",
    "\n",
    "This is available in the `nab` module\n",
    "\n",
    "```python\n",
    "def deapply_differencing(pred, deltas, lags, extra_wlen=0):\n",
    "    dsum = 0\n",
    "    pred_dd = pred.copy()\n",
    "    for i, d in reversed(list(enumerate(lags))):\n",
    "        delta = deltas[i].values.reshape((-1,))\n",
    "        pred_dd = pred_dd + delta[extra_wlen+dsum:]\n",
    "        dsum +=  d\n",
    "    return pred_dd\n",
    "```"
   ]
  },
  {
   "cell_type": "code",
   "execution_count": 25,
   "metadata": {},
   "outputs": [],
   "source": [
    "pred = nab.deapply_differencing(pred_d, deltas, periods, wlen_d)"
   ]
  },
  {
   "cell_type": "markdown",
   "metadata": {
    "slideshow": {
     "slide_type": "subslide"
    }
   },
   "source": [
    "## Prediction Quality\n",
    "\n",
    "**We can check the prediction quality via a scatter plot:**"
   ]
  },
  {
   "cell_type": "code",
   "execution_count": 27,
   "metadata": {},
   "outputs": [
    {
     "data": {
      "image/png": "[encoded data removed]",
      "text/plain": [
       "<Figure size 936x288 with 1 Axes>"
      ]
     },
     "metadata": {
      "needs_background": "light"
     },
     "output_type": "display_data"
    }
   ],
   "source": [
    "nab.plot_prediction_scatter(targets, pred, figsize=figsize)"
   ]
  },
  {
   "cell_type": "markdown",
   "metadata": {},
   "source": [
    "...And via the R2 score:"
   ]
  },
  {
   "cell_type": "code",
   "execution_count": 28,
   "metadata": {},
   "outputs": [
    {
     "data": {
      "text/plain": [
       "0.9818505405355401"
      ]
     },
     "execution_count": 28,
     "metadata": {},
     "output_type": "execute_result"
    }
   ],
   "source": [
    "r2_score(targets, pred)"
   ]
  },
  {
   "cell_type": "markdown",
   "metadata": {
    "slideshow": {
     "slide_type": "subslide"
    }
   },
   "source": [
    "## Alarm Signal\n",
    "\n",
    "**Now we compute the errors to obtain our signal**"
   ]
  },
  {
   "cell_type": "code",
   "execution_count": 30,
   "metadata": {},
   "outputs": [
    {
     "data": {
      "image/png": "[encoded data removed]",
      "text/plain": [
       "<Figure size 936x288 with 1 Axes>"
      ]
     },
     "metadata": {
      "needs_background": "light"
     },
     "output_type": "display_data"
    }
   ],
   "source": [
    "err_d = targets - pred\n",
    "signal_d = np.abs(err_d)\n",
    "nab.plot_series(signal_d, labels, windows, figsize=figsize)"
   ]
  },
  {
   "cell_type": "markdown",
   "metadata": {
    "slideshow": {
     "slide_type": "subslide"
    }
   },
   "source": [
    "## Effect of the Threshold\n",
    "\n",
    "**Here's the cost surface w.r.t. the threshold**"
   ]
  },
  {
   "cell_type": "code",
   "execution_count": 32,
   "metadata": {},
   "outputs": [
    {
     "data": {
      "image/png": "[encoded data removed]",
      "text/plain": [
       "<Figure size 936x288 with 1 Axes>"
      ]
     },
     "metadata": {
      "needs_background": "light"
     },
     "output_type": "display_data"
    }
   ],
   "source": [
    "thr_range = np.linspace(0.1, 1, 100)\n",
    "cost_range = [cmodel.cost(signal_d, labels, windows, thr)\n",
    "              for thr in thr_range]\n",
    "cost_range = pd.Series(index=thr_range, data=cost_range)\n",
    "nab.plot_series(cost_range, figsize=figsize)"
   ]
  },
  {
   "cell_type": "markdown",
   "metadata": {
    "slideshow": {
     "slide_type": "subslide"
    }
   },
   "source": [
    "## Threshold Optimization\n",
    "\n",
    "**We can choose the value of $\\theta$ in the usual way**"
   ]
  },
  {
   "cell_type": "code",
   "execution_count": 33,
   "metadata": {},
   "outputs": [
    {
     "name": "stdout",
     "output_type": "stream",
     "text": [
      "Best threshold: 0.155, corresponding cost: 10\n"
     ]
    }
   ],
   "source": [
    "signal_d_opt = signal_d[signal_d.index < val_end]\n",
    "labels_opt = labels[labels < val_end]\n",
    "windows_opt = windows[windows['end'] < val_end]\n",
    "\n",
    "best_thr, best_cost = nab.opt_thr(signal_d_opt, labels_opt,\n",
    "                                  windows_opt,  cmodel, thr_range)\n",
    "print(f'Best threshold: {best_thr:.3f}, corresponding cost: {best_cost}')"
   ]
  },
  {
   "cell_type": "markdown",
   "metadata": {},
   "source": [
    "Over all the dataset"
   ]
  },
  {
   "cell_type": "code",
   "execution_count": 34,
   "metadata": {},
   "outputs": [
    {
     "name": "stdout",
     "output_type": "stream",
     "text": [
      "Cost on the whole dataset 31\n"
     ]
    }
   ],
   "source": [
    "ctst = cmodel.cost(signal_d, labels, windows, best_thr)\n",
    "print(f'Cost on the whole dataset {ctst}')"
   ]
  },
  {
   "cell_type": "markdown",
   "metadata": {
    "slideshow": {
     "slide_type": "subslide"
    }
   },
   "source": [
    "## Considerations\n",
    "\n",
    "**We have seen just _one way to handle seasonality_:**\n",
    "\n",
    "* Another method consists in augmenting the input data...\n",
    "* ...With a frequency component in the form $w_1 \\cos \\pi \\omega t + w_2 \\sin \\pi \\omega t$\n",
    "  - $\\omega$ corresponds to the frequency we want to capture\n",
    "  - $w_1$ and $w_2$ are weights to be tuned by Linear Regression\n",
    "* In practice, we add one column for $\\cos \\pi\\omega t$ and one for $\\sin \\pi\\omega t$\n",
    "\n",
    "**Differencing is an idea with a _broader scope_:**\n",
    "\n",
    "* It is at the heart of so-called \"integrated\" linear approaches for time series\n",
    "* ...It's the \"I\" in ARIMA models\n",
    "  - ...Which BTW stands for Auto Regressive Integrated Moving Average"
   ]
  },
  {
   "cell_type": "markdown",
   "metadata": {
    "slideshow": {
     "slide_type": "subslide"
    }
   },
   "source": [
    "## Considerations\n",
    "\n",
    "**Seasonality and time-dependent models _rely on periods_**\n",
    "\n",
    "* ...But they do _different things_!\n",
    "* In one case we _model_ the period effect, and then we _remove_ it\n",
    "  - E.g. differencing, using a frequency component\n",
    "* In time-indexed models we _learn models that focus on specific times_\n",
    "  - There is no explicit time model\n",
    "  - ...Or, better, the time model is a lookup table with distinct predictors\n",
    "* Hard to say a priori which approach can work best\n",
    "\n",
    "Both approaches not tied to Linear Regression and KDE\n",
    "\n",
    "**Removing seasonality is related to _gradient boosting_**\n",
    "\n",
    "* I.e. to the idea of building an ensemble as a sequence of (summed) predictors\n",
    "* ..Each one trying to correct the mistake of the sub-sequence that precedes it"
   ]
  }
 ],
 "metadata": {
  "celltoolbar": "Slideshow",
  "kernelspec": {
   "display_name": "Python 3 (ipykernel)",
   "language": "python",
   "name": "python3"
  },
  "language_info": {
   "codemirror_mode": {
    "name": "ipython",
    "version": 3
   },
   "file_extension": ".py",
   "mimetype": "text/x-python",
   "name": "python",
   "nbconvert_exporter": "python",
   "pygments_lexer": "ipython3",
   "version": "3.8.10"
  },
  "rise": {
   "center": false,
   "transition": "fade"
  },
  "widgets": {
   "application/vnd.jupyter.widget-state+json": {
    "state": {},
    "version_major": 2,
    "version_minor": 0
   }
  }
 },
 "nbformat": 4,
 "nbformat_minor": 4
}
